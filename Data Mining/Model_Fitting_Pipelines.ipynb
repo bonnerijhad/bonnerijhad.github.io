{
 "cells": [
  {
   "cell_type": "code",
   "execution_count": 108,
   "metadata": {},
   "outputs": [],
   "source": [
    "from sklearn.neural_network import MLPClassifier\n",
    "import seaborn as sns\n",
    "import numpy as np\n",
    "import pandas as pd\n",
    "import matplotlib.pyplot as plt\n",
    "import statsmodels.formula.api as smf\n",
    "from sklearn.preprocessing import StandardScaler\n",
    "from sklearn.model_selection import RepeatedStratifiedKFold\n",
    "from sklearn.linear_model import LogisticRegression\n",
    "from sklearn.linear_model import LogisticRegressionCV\n",
    "from sklearn.pipeline import Pipeline\n",
    "from sklearn.decomposition import PCA\n",
    "from sklearn.preprocessing import PolynomialFeatures\n",
    "from sklearn.model_selection import GridSearchCV\n",
    "from patsy import dmatrices\n",
    "from sklearn.preprocessing import OneHotEncoder\n",
    "from sklearn.model_selection import KFold\n",
    "from sklearn.model_selection import StratifiedKFold\n",
    "from sklearn.ensemble import RandomForestClassifier\n",
    "from sklearn.svm import SVC\n",
    "from sklearn.metrics import roc_auc_score"
   ]
  },
  {
   "cell_type": "code",
   "execution_count": 3,
   "metadata": {},
   "outputs": [],
   "source": [
    "df = pd.read_csv('final_proj_clean.csv')\n",
    "df = df.drop(['Unnamed: 0'], axis = 1)\n",
    "df = df.replace(True,1)\n",
    "df = df.replace(False,0)\n",
    "df['championPlayed'] = df['championPlayed'].astype('category')\n",
    "df['firstBlood'] = df['firstBlood'].astype('category')\n",
    "df['firstTower'] = df['firstTower'].astype('category')\n",
    "df['firstInhibitor'] = df['firstInhibitor'].astype('category')\n",
    "df['firstBaron'] = df['firstBaron'].astype('category')\n",
    "df['firstDragon'] = df['firstDragon'].astype('category')\n",
    "df['firstRiftHerald'] = df['firstRiftHerald'].astype('category')\n",
    "df['playerId'] =df['playerId'].astype('category')\n",
    "\n"
   ]
  },
  {
   "cell_type": "code",
   "execution_count": 4,
   "metadata": {},
   "outputs": [
    {
     "data": {
      "text/html": [
       "<div>\n",
       "<style scoped>\n",
       "    .dataframe tbody tr th:only-of-type {\n",
       "        vertical-align: middle;\n",
       "    }\n",
       "\n",
       "    .dataframe tbody tr th {\n",
       "        vertical-align: top;\n",
       "    }\n",
       "\n",
       "    .dataframe thead th {\n",
       "        text-align: right;\n",
       "    }\n",
       "</style>\n",
       "<table border=\"1\" class=\"dataframe\">\n",
       "  <thead>\n",
       "    <tr style=\"text-align: right;\">\n",
       "      <th></th>\n",
       "      <th>winloss</th>\n",
       "      <th>playerId</th>\n",
       "      <th>championPlayed</th>\n",
       "      <th>kills</th>\n",
       "      <th>deaths</th>\n",
       "      <th>assists</th>\n",
       "      <th>goldEarned</th>\n",
       "      <th>inhibitorKills</th>\n",
       "      <th>turretKills</th>\n",
       "      <th>visionScore</th>\n",
       "      <th>...</th>\n",
       "      <th>totalDamageTaken</th>\n",
       "      <th>longestTimeSpentLiving</th>\n",
       "      <th>totalDamageDealtToChampions</th>\n",
       "      <th>totalTimeCrowdControlDealt</th>\n",
       "      <th>firstBlood</th>\n",
       "      <th>firstTower</th>\n",
       "      <th>firstInhibitor</th>\n",
       "      <th>firstBaron</th>\n",
       "      <th>firstDragon</th>\n",
       "      <th>firstRiftHerald</th>\n",
       "    </tr>\n",
       "  </thead>\n",
       "  <tbody>\n",
       "    <tr>\n",
       "      <th>0</th>\n",
       "      <td>1</td>\n",
       "      <td>omKM0-rENPoC4ZDmjA-6oFSKysuXuyzET86KbCTtIFtFwQ</td>\n",
       "      <td>134</td>\n",
       "      <td>9</td>\n",
       "      <td>2</td>\n",
       "      <td>2</td>\n",
       "      <td>10401</td>\n",
       "      <td>0</td>\n",
       "      <td>1</td>\n",
       "      <td>5</td>\n",
       "      <td>...</td>\n",
       "      <td>10006</td>\n",
       "      <td>794</td>\n",
       "      <td>15861</td>\n",
       "      <td>145</td>\n",
       "      <td>1.0</td>\n",
       "      <td>1.0</td>\n",
       "      <td>0.0</td>\n",
       "      <td>0.0</td>\n",
       "      <td>1.0</td>\n",
       "      <td>1.0</td>\n",
       "    </tr>\n",
       "    <tr>\n",
       "      <th>1</th>\n",
       "      <td>0</td>\n",
       "      <td>omKM0-rENPoC4ZDmjA-6oFSKysuXuyzET86KbCTtIFtFwQ</td>\n",
       "      <td>134</td>\n",
       "      <td>7</td>\n",
       "      <td>10</td>\n",
       "      <td>11</td>\n",
       "      <td>12636</td>\n",
       "      <td>1</td>\n",
       "      <td>0</td>\n",
       "      <td>27</td>\n",
       "      <td>...</td>\n",
       "      <td>26612</td>\n",
       "      <td>486</td>\n",
       "      <td>31334</td>\n",
       "      <td>274</td>\n",
       "      <td>1.0</td>\n",
       "      <td>1.0</td>\n",
       "      <td>1.0</td>\n",
       "      <td>1.0</td>\n",
       "      <td>0.0</td>\n",
       "      <td>1.0</td>\n",
       "    </tr>\n",
       "    <tr>\n",
       "      <th>2</th>\n",
       "      <td>0</td>\n",
       "      <td>omKM0-rENPoC4ZDmjA-6oFSKysuXuyzET86KbCTtIFtFwQ</td>\n",
       "      <td>8</td>\n",
       "      <td>9</td>\n",
       "      <td>12</td>\n",
       "      <td>16</td>\n",
       "      <td>16815</td>\n",
       "      <td>0</td>\n",
       "      <td>4</td>\n",
       "      <td>25</td>\n",
       "      <td>...</td>\n",
       "      <td>51215</td>\n",
       "      <td>404</td>\n",
       "      <td>54000</td>\n",
       "      <td>172</td>\n",
       "      <td>1.0</td>\n",
       "      <td>1.0</td>\n",
       "      <td>1.0</td>\n",
       "      <td>1.0</td>\n",
       "      <td>1.0</td>\n",
       "      <td>1.0</td>\n",
       "    </tr>\n",
       "    <tr>\n",
       "      <th>3</th>\n",
       "      <td>0</td>\n",
       "      <td>omKM0-rENPoC4ZDmjA-6oFSKysuXuyzET86KbCTtIFtFwQ</td>\n",
       "      <td>110</td>\n",
       "      <td>2</td>\n",
       "      <td>4</td>\n",
       "      <td>3</td>\n",
       "      <td>9147</td>\n",
       "      <td>0</td>\n",
       "      <td>0</td>\n",
       "      <td>11</td>\n",
       "      <td>...</td>\n",
       "      <td>11614</td>\n",
       "      <td>442</td>\n",
       "      <td>8694</td>\n",
       "      <td>233</td>\n",
       "      <td>0.0</td>\n",
       "      <td>0.0</td>\n",
       "      <td>0.0</td>\n",
       "      <td>0.0</td>\n",
       "      <td>1.0</td>\n",
       "      <td>0.0</td>\n",
       "    </tr>\n",
       "    <tr>\n",
       "      <th>4</th>\n",
       "      <td>1</td>\n",
       "      <td>omKM0-rENPoC4ZDmjA-6oFSKysuXuyzET86KbCTtIFtFwQ</td>\n",
       "      <td>69</td>\n",
       "      <td>6</td>\n",
       "      <td>9</td>\n",
       "      <td>8</td>\n",
       "      <td>12246</td>\n",
       "      <td>0</td>\n",
       "      <td>0</td>\n",
       "      <td>32</td>\n",
       "      <td>...</td>\n",
       "      <td>24436</td>\n",
       "      <td>714</td>\n",
       "      <td>20481</td>\n",
       "      <td>171</td>\n",
       "      <td>1.0</td>\n",
       "      <td>1.0</td>\n",
       "      <td>1.0</td>\n",
       "      <td>0.0</td>\n",
       "      <td>0.0</td>\n",
       "      <td>1.0</td>\n",
       "    </tr>\n",
       "    <tr>\n",
       "      <th>...</th>\n",
       "      <td>...</td>\n",
       "      <td>...</td>\n",
       "      <td>...</td>\n",
       "      <td>...</td>\n",
       "      <td>...</td>\n",
       "      <td>...</td>\n",
       "      <td>...</td>\n",
       "      <td>...</td>\n",
       "      <td>...</td>\n",
       "      <td>...</td>\n",
       "      <td>...</td>\n",
       "      <td>...</td>\n",
       "      <td>...</td>\n",
       "      <td>...</td>\n",
       "      <td>...</td>\n",
       "      <td>...</td>\n",
       "      <td>...</td>\n",
       "      <td>...</td>\n",
       "      <td>...</td>\n",
       "      <td>...</td>\n",
       "      <td>...</td>\n",
       "    </tr>\n",
       "    <tr>\n",
       "      <th>11314</th>\n",
       "      <td>1</td>\n",
       "      <td>Rii5E_AEdlpQMiPrpCpZZzTl2HAon783Wb2sARbN8I2DhT...</td>\n",
       "      <td>119</td>\n",
       "      <td>16</td>\n",
       "      <td>4</td>\n",
       "      <td>6</td>\n",
       "      <td>15622</td>\n",
       "      <td>0</td>\n",
       "      <td>4</td>\n",
       "      <td>13</td>\n",
       "      <td>...</td>\n",
       "      <td>14140</td>\n",
       "      <td>713</td>\n",
       "      <td>23960</td>\n",
       "      <td>87</td>\n",
       "      <td>0.0</td>\n",
       "      <td>1.0</td>\n",
       "      <td>1.0</td>\n",
       "      <td>1.0</td>\n",
       "      <td>1.0</td>\n",
       "      <td>1.0</td>\n",
       "    </tr>\n",
       "    <tr>\n",
       "      <th>11315</th>\n",
       "      <td>0</td>\n",
       "      <td>Rii5E_AEdlpQMiPrpCpZZzTl2HAon783Wb2sARbN8I2DhT...</td>\n",
       "      <td>29</td>\n",
       "      <td>4</td>\n",
       "      <td>6</td>\n",
       "      <td>4</td>\n",
       "      <td>8064</td>\n",
       "      <td>0</td>\n",
       "      <td>0</td>\n",
       "      <td>6</td>\n",
       "      <td>...</td>\n",
       "      <td>13346</td>\n",
       "      <td>338</td>\n",
       "      <td>10094</td>\n",
       "      <td>180</td>\n",
       "      <td>0.0</td>\n",
       "      <td>0.0</td>\n",
       "      <td>0.0</td>\n",
       "      <td>0.0</td>\n",
       "      <td>0.0</td>\n",
       "      <td>0.0</td>\n",
       "    </tr>\n",
       "    <tr>\n",
       "      <th>11316</th>\n",
       "      <td>0</td>\n",
       "      <td>Rii5E_AEdlpQMiPrpCpZZzTl2HAon783Wb2sARbN8I2DhT...</td>\n",
       "      <td>29</td>\n",
       "      <td>0</td>\n",
       "      <td>0</td>\n",
       "      <td>0</td>\n",
       "      <td>845</td>\n",
       "      <td>0</td>\n",
       "      <td>0</td>\n",
       "      <td>1</td>\n",
       "      <td>...</td>\n",
       "      <td>654</td>\n",
       "      <td>0</td>\n",
       "      <td>588</td>\n",
       "      <td>0</td>\n",
       "      <td>0.0</td>\n",
       "      <td>0.0</td>\n",
       "      <td>0.0</td>\n",
       "      <td>0.0</td>\n",
       "      <td>0.0</td>\n",
       "      <td>0.0</td>\n",
       "    </tr>\n",
       "    <tr>\n",
       "      <th>11317</th>\n",
       "      <td>1</td>\n",
       "      <td>Rii5E_AEdlpQMiPrpCpZZzTl2HAon783Wb2sARbN8I2DhT...</td>\n",
       "      <td>29</td>\n",
       "      <td>15</td>\n",
       "      <td>1</td>\n",
       "      <td>2</td>\n",
       "      <td>14202</td>\n",
       "      <td>0</td>\n",
       "      <td>2</td>\n",
       "      <td>17</td>\n",
       "      <td>...</td>\n",
       "      <td>8973</td>\n",
       "      <td>1184</td>\n",
       "      <td>24757</td>\n",
       "      <td>280</td>\n",
       "      <td>1.0</td>\n",
       "      <td>1.0</td>\n",
       "      <td>1.0</td>\n",
       "      <td>1.0</td>\n",
       "      <td>1.0</td>\n",
       "      <td>1.0</td>\n",
       "    </tr>\n",
       "    <tr>\n",
       "      <th>11318</th>\n",
       "      <td>1</td>\n",
       "      <td>Rii5E_AEdlpQMiPrpCpZZzTl2HAon783Wb2sARbN8I2DhT...</td>\n",
       "      <td>29</td>\n",
       "      <td>12</td>\n",
       "      <td>0</td>\n",
       "      <td>7</td>\n",
       "      <td>13147</td>\n",
       "      <td>1</td>\n",
       "      <td>4</td>\n",
       "      <td>16</td>\n",
       "      <td>...</td>\n",
       "      <td>8029</td>\n",
       "      <td>1250</td>\n",
       "      <td>20320</td>\n",
       "      <td>166</td>\n",
       "      <td>1.0</td>\n",
       "      <td>1.0</td>\n",
       "      <td>1.0</td>\n",
       "      <td>0.0</td>\n",
       "      <td>1.0</td>\n",
       "      <td>0.0</td>\n",
       "    </tr>\n",
       "  </tbody>\n",
       "</table>\n",
       "<p>11319 rows × 21 columns</p>\n",
       "</div>"
      ],
      "text/plain": [
       "       winloss                                           playerId  \\\n",
       "0            1     omKM0-rENPoC4ZDmjA-6oFSKysuXuyzET86KbCTtIFtFwQ   \n",
       "1            0     omKM0-rENPoC4ZDmjA-6oFSKysuXuyzET86KbCTtIFtFwQ   \n",
       "2            0     omKM0-rENPoC4ZDmjA-6oFSKysuXuyzET86KbCTtIFtFwQ   \n",
       "3            0     omKM0-rENPoC4ZDmjA-6oFSKysuXuyzET86KbCTtIFtFwQ   \n",
       "4            1     omKM0-rENPoC4ZDmjA-6oFSKysuXuyzET86KbCTtIFtFwQ   \n",
       "...        ...                                                ...   \n",
       "11314        1  Rii5E_AEdlpQMiPrpCpZZzTl2HAon783Wb2sARbN8I2DhT...   \n",
       "11315        0  Rii5E_AEdlpQMiPrpCpZZzTl2HAon783Wb2sARbN8I2DhT...   \n",
       "11316        0  Rii5E_AEdlpQMiPrpCpZZzTl2HAon783Wb2sARbN8I2DhT...   \n",
       "11317        1  Rii5E_AEdlpQMiPrpCpZZzTl2HAon783Wb2sARbN8I2DhT...   \n",
       "11318        1  Rii5E_AEdlpQMiPrpCpZZzTl2HAon783Wb2sARbN8I2DhT...   \n",
       "\n",
       "      championPlayed  kills  deaths  assists  goldEarned  inhibitorKills  \\\n",
       "0                134      9       2        2       10401               0   \n",
       "1                134      7      10       11       12636               1   \n",
       "2                  8      9      12       16       16815               0   \n",
       "3                110      2       4        3        9147               0   \n",
       "4                 69      6       9        8       12246               0   \n",
       "...              ...    ...     ...      ...         ...             ...   \n",
       "11314            119     16       4        6       15622               0   \n",
       "11315             29      4       6        4        8064               0   \n",
       "11316             29      0       0        0         845               0   \n",
       "11317             29     15       1        2       14202               0   \n",
       "11318             29     12       0        7       13147               1   \n",
       "\n",
       "       turretKills  visionScore  ...  totalDamageTaken  \\\n",
       "0                1            5  ...             10006   \n",
       "1                0           27  ...             26612   \n",
       "2                4           25  ...             51215   \n",
       "3                0           11  ...             11614   \n",
       "4                0           32  ...             24436   \n",
       "...            ...          ...  ...               ...   \n",
       "11314            4           13  ...             14140   \n",
       "11315            0            6  ...             13346   \n",
       "11316            0            1  ...               654   \n",
       "11317            2           17  ...              8973   \n",
       "11318            4           16  ...              8029   \n",
       "\n",
       "       longestTimeSpentLiving  totalDamageDealtToChampions  \\\n",
       "0                         794                        15861   \n",
       "1                         486                        31334   \n",
       "2                         404                        54000   \n",
       "3                         442                         8694   \n",
       "4                         714                        20481   \n",
       "...                       ...                          ...   \n",
       "11314                     713                        23960   \n",
       "11315                     338                        10094   \n",
       "11316                       0                          588   \n",
       "11317                    1184                        24757   \n",
       "11318                    1250                        20320   \n",
       "\n",
       "       totalTimeCrowdControlDealt  firstBlood firstTower firstInhibitor  \\\n",
       "0                             145         1.0        1.0            0.0   \n",
       "1                             274         1.0        1.0            1.0   \n",
       "2                             172         1.0        1.0            1.0   \n",
       "3                             233         0.0        0.0            0.0   \n",
       "4                             171         1.0        1.0            1.0   \n",
       "...                           ...         ...        ...            ...   \n",
       "11314                          87         0.0        1.0            1.0   \n",
       "11315                         180         0.0        0.0            0.0   \n",
       "11316                           0         0.0        0.0            0.0   \n",
       "11317                         280         1.0        1.0            1.0   \n",
       "11318                         166         1.0        1.0            1.0   \n",
       "\n",
       "      firstBaron firstDragon firstRiftHerald  \n",
       "0            0.0         1.0             1.0  \n",
       "1            1.0         0.0             1.0  \n",
       "2            1.0         1.0             1.0  \n",
       "3            0.0         1.0             0.0  \n",
       "4            0.0         0.0             1.0  \n",
       "...          ...         ...             ...  \n",
       "11314        1.0         1.0             1.0  \n",
       "11315        0.0         0.0             0.0  \n",
       "11316        0.0         0.0             0.0  \n",
       "11317        1.0         1.0             1.0  \n",
       "11318        0.0         1.0             0.0  \n",
       "\n",
       "[11319 rows x 21 columns]"
      ]
     },
     "execution_count": 4,
     "metadata": {},
     "output_type": "execute_result"
    }
   ],
   "source": [
    "df"
   ]
  },
  {
   "cell_type": "code",
   "execution_count": 5,
   "metadata": {},
   "outputs": [
    {
     "name": "stdout",
     "output_type": "stream",
     "text": [
      "<class 'pandas.core.frame.DataFrame'>\n",
      "RangeIndex: 11319 entries, 0 to 11318\n",
      "Data columns (total 21 columns):\n",
      " #   Column                       Non-Null Count  Dtype   \n",
      "---  ------                       --------------  -----   \n",
      " 0   winloss                      11319 non-null  int64   \n",
      " 1   playerId                     11319 non-null  category\n",
      " 2   championPlayed               11319 non-null  category\n",
      " 3   kills                        11319 non-null  int64   \n",
      " 4   deaths                       11319 non-null  int64   \n",
      " 5   assists                      11319 non-null  int64   \n",
      " 6   goldEarned                   11319 non-null  int64   \n",
      " 7   inhibitorKills               11319 non-null  int64   \n",
      " 8   turretKills                  11319 non-null  int64   \n",
      " 9   visionScore                  11319 non-null  int64   \n",
      " 10  totalDamageDealt             11319 non-null  int64   \n",
      " 11  totalDamageTaken             11319 non-null  int64   \n",
      " 12  longestTimeSpentLiving       11319 non-null  int64   \n",
      " 13  totalDamageDealtToChampions  11319 non-null  int64   \n",
      " 14  totalTimeCrowdControlDealt   11319 non-null  int64   \n",
      " 15  firstBlood                   11319 non-null  category\n",
      " 16  firstTower                   11319 non-null  category\n",
      " 17  firstInhibitor               11319 non-null  category\n",
      " 18  firstBaron                   11319 non-null  category\n",
      " 19  firstDragon                  11319 non-null  category\n",
      " 20  firstRiftHerald              11319 non-null  category\n",
      "dtypes: category(8), int64(13)\n",
      "memory usage: 1.2 MB\n"
     ]
    }
   ],
   "source": [
    "df.info()"
   ]
  },
  {
   "cell_type": "code",
   "execution_count": 6,
   "metadata": {},
   "outputs": [
    {
     "data": {
      "text/plain": [
       "<AxesSubplot:>"
      ]
     },
     "execution_count": 6,
     "metadata": {},
     "output_type": "execute_result"
    },
    {
     "data": {
      "image/png": "[encoded data removed]",
      "text/plain": [
       "<Figure size 432x288 with 2 Axes>"
      ]
     },
     "metadata": {
      "needs_background": "light"
     },
     "output_type": "display_data"
    }
   ],
   "source": [
    "sns.heatmap(data=df.corr())"
   ]
  },
  {
   "cell_type": "code",
   "execution_count": 7,
   "metadata": {},
   "outputs": [
    {
     "data": {
      "text/plain": [
       "1    0.534588\n",
       "0    0.465412\n",
       "Name: winloss, dtype: float64"
      ]
     },
     "execution_count": 7,
     "metadata": {},
     "output_type": "execute_result"
    }
   ],
   "source": [
    "df.winloss.value_counts(normalize=True)"
   ]
  },
  {
   "cell_type": "markdown",
   "metadata": {},
   "source": [
    "#### As recommended, I will fit models on a player by player basis"
   ]
  },
  {
   "cell_type": "code",
   "execution_count": 8,
   "metadata": {},
   "outputs": [],
   "source": [
    "players_separated_list = [pd.DataFrame(y) for x, y in df.groupby('playerId', as_index=False)]"
   ]
  },
  {
   "cell_type": "code",
   "execution_count": 57,
   "metadata": {},
   "outputs": [],
   "source": [
    "def calc_pca_contrib(load_mat):\n",
    "    # square each element in the loadings matrix\n",
    "    load_mat_sq = load_mat ** 2\n",
    "    # sum the square loadings for each PC\n",
    "    sum_load_squares = load_mat_sq.sum(axis=0)\n",
    "    # divide the square loadings by the sum of the squared loadings per PC\n",
    "    contrib_mat = load_mat_sq / sum_load_squares\n",
    "    \n",
    "    return(contrib_mat)"
   ]
  },
  {
   "cell_type": "code",
   "execution_count": 109,
   "metadata": {},
   "outputs": [],
   "source": [
    "simple_summary_dictionary = {}\n",
    "simple_classification_dictionary = {}\n",
    "\n",
    "interactions_summary_dictionary = {}\n",
    "interactions_classification_dictionary = {}\n",
    "\n",
    "three_summary_dictionary = {}\n",
    "three_classification_dictionary = {}\n",
    "\n",
    "CVsimple_summary_dictionary = {}\n",
    "CVsimple_classification_dictionary = {}\n",
    "\n",
    "auc_scores ={}\n",
    "\n",
    "pipeline_summary_dictionary = {}\n",
    "pipeline_classification_dictionary = {}\n",
    "\n",
    "PCAcoefficients = {}"
   ]
  },
  {
   "cell_type": "code",
   "execution_count": 110,
   "metadata": {},
   "outputs": [],
   "source": [
    "\n",
    "\n",
    "simple_additive = 'winloss ~ C(championPlayed) + kills + deaths + assists + goldEarned + inhibitorKills + turretKills + visionScore' \\\n",
    "                  '+ totalDamageDealt + totalDamageTaken + longestTimeSpentLiving + totalDamageDealtToChampions + totalTimeCrowdControlDealt' \\\n",
    "                  '+ C(firstBlood) + C(firstTower) + C(firstInhibitor) + C(firstBaron) + C(firstDragon) + C(firstRiftHerald)'\n",
    "\n",
    "simple_interact = 'winloss ~ (C(championPlayed) + kills + deaths + assists + goldEarned + inhibitorKills + turretKills + visionScore' \\\n",
    "                  '+ totalDamageDealt + totalDamageTaken + longestTimeSpentLiving + totalDamageDealtToChampions + totalTimeCrowdControlDealt' \\\n",
    "                  '+ C(firstBlood) + C(firstTower) + C(firstInhibitor) + C(firstBaron) + C(firstDragon) + C(firstRiftHerald))**2 '\n",
    "\n",
    "#taking log of applicable variables because variables seem to be related in many ways\n",
    "three_interact =  'winloss ~ (C(championPlayed) + kills + deaths + assists + goldEarned + inhibitorKills + turretKills + visionScore' \\\n",
    "                  '+ totalDamageDealt + totalDamageTaken + longestTimeSpentLiving + totalDamageDealtToChampions + totalTimeCrowdControlDealt' \\\n",
    "                  '+ C(firstBlood) + C(firstTower) + C(firstInhibitor) + C(firstBaron) + C(firstDragon) + C(firstRiftHerald))**3'\n",
    "\n",
    "columns_to_standardize = ['kills','deaths','assists','goldEarned','inhibitorKills','turretKills','visionScore','totalDamageDealt',\n",
    "               'totalDamageTaken','longestTimeSpentLiving','totalDamageDealtToChampions','totalTimeCrowdControlDealt']\n",
    "\n",
    "columns_to_np = ['championPlayed','kills','deaths','assists','goldEarned','inhibitorKills','turretKills','visionScore','totalDamageDealt',\n",
    "               'totalDamageTaken','longestTimeSpentLiving','totalDamageDealtToChampions','totalTimeCrowdControlDealt',\n",
    "                'firstBlood','firstTower','firstInhibitor','firstBaron','firstDragon','firstRiftHerald']\n",
    "\n",
    "C_list = np.exp(np.linspace(-6, 6, num=11))\n",
    "\n",
    "def SimpleModelFit(instance, player_data, formula_used, summary_dict, class_dict, num_cols):\n",
    "    #set up to standardize (I have to or else the fitting fails to converge)\n",
    "    temp_player_data = player_data.sample(frac=1).copy()\n",
    "    standard = StandardScaler()\n",
    "    temp_player_data[num_cols] = standard.fit_transform(temp_player_data[num_cols])\n",
    "    \n",
    "    y_temp, X_temp = dmatrices(formula_used+' -1', temp_player_data)\n",
    "    temp_fit = LogisticRegression(max_iter=10000,fit_intercept=False).fit(X_temp[125:],y_temp[125:].ravel())\n",
    "    \n",
    "    #add summary to a dictionary\n",
    "    summary_dict['player_'+str(instance)] = temp_fit.score(X_temp[:125],y_temp[:125].ravel())\n",
    "\n",
    "    temp_player_data['pred_prob'] = temp_fit.predict_proba(X_temp).tolist()\n",
    "    temp_player_data['pred_class'] = temp_fit.predict(X_temp).tolist()\n",
    "    \n",
    "    #add the dataframe with probabilities and classification to dictionary\n",
    "    class_dict['player'+str(instance)] = temp_player_data\n",
    "\n",
    "    \n",
    "    \n",
    "\n",
    "#this function is like SimpleModelFit, but uses CV too\n",
    "def SimpleCVFit(instance, player_data, formula_used, summary_dict, class_dict, num_cols):\n",
    "    #set up to standardize (I have to or else the fitting fails to converge)\n",
    "    temp_player_data = player_data.sample(frac=1).copy()\n",
    "    standard = StandardScaler()\n",
    "    temp_player_data[num_cols] = standard.fit_transform(temp_player_data[num_cols])\n",
    "    \n",
    "    y_temp, X_temp = dmatrices(formula_used+' -1', temp_player_data)\n",
    "    temp_fit = LogisticRegressionCV(l1_ratios=[0.0,0.5,1.0],solver='saga',penalty='elasticnet',cv=3, max_iter=10000, fit_intercept=False,n_jobs=2).fit(X_temp,y_temp.ravel())\n",
    "    \n",
    "    #add summary to a dictionary\n",
    "    summary_dict['player_'+str(instance)] = temp_fit.score(X_temp,y_temp.ravel())\n",
    "\n",
    "    temp_player_data['pred_prob'] = temp_fit.predict_proba(X_temp).tolist()\n",
    "    temp_player_data['pred_class'] = temp_fit.predict(X_temp).tolist()\n",
    "    \n",
    "    #add the dataframe with probabilities and classification to dictionary\n",
    "    class_dict['player'+str(instance)] = temp_player_data\n",
    "      \n",
    "\n",
    "        \n",
    "#-------------------------------------------------------------------------------------------------------------------------------------------        \n",
    "\n",
    "#this function is like SimpleModelFit, but uses CV too\n",
    "def PCA_CVFit(instance, player_data, formula_used, summary_dict, class_dict, num_cols):\n",
    "    #set up to standardize (I have to or else the fitting fails to converge)\n",
    "    temp_player_data = player_data.sample(frac=1).copy()\n",
    "    standard = StandardScaler()\n",
    "    temp_player_data[num_cols] = standard.fit_transform(temp_player_data[num_cols])\n",
    "    pca_fit = PCA(n_components=12)\n",
    "    \n",
    "    y_temp, X_temp = dmatrices(formula_used+' -1', temp_player_data)\n",
    "    X_temp = pca_fit.fit_transform(X_temp)\n",
    "    temp_fit = LogisticRegressionCV(Cs=C_list ,l1_ratios=[0.0,0.5,1.0],solver='saga',penalty='elasticnet',random_state=101,cv=10, max_iter=10000, fit_intercept=False,n_jobs=-1).fit(X_temp,y_temp.ravel())\n",
    "    \n",
    "    #add summary to a dictionary\n",
    "    summary_dict['player_'+str(instance)] = temp_fit.score(X_temp,y_temp.ravel())\n",
    "\n",
    "    temp_player_data['pred_prob'] = temp_fit.predict_proba(X_temp).tolist()\n",
    "    temp_player_data['pred_class'] = temp_fit.predict(X_temp).tolist()\n",
    "    \n",
    "    #add the dataframe with probabilities and classification to dictionary\n",
    "    class_dict['player_'+str(instance)] = temp_player_data\n",
    "    PCAcoefficients['player_'+str(instance)] = temp_fit.coef_\n",
    "    print('player_'+str(instance)+' best fit l1 ratio = '+str(temp_fit.l1_ratio_))\n",
    "    auc_scores['player_'+str(instance)] = roc_auc_score(y_temp, temp_fit.predict_proba(X_temp)[:, 1])\n",
    "    \n",
    "\n",
    "\n",
    "\n",
    "\n",
    "\n",
    "\n",
    "\n",
    "\n",
    "\n",
    "#this function will handle the fitting, etc.for more complex models\n",
    "def PipelineModelTuning(instance, player_data, summary_dict, class_dict, num_cols):\n",
    "    #bring in data and such\n",
    "    temp_player_data = player_data.sample(frac=1).copy()\n",
    "    scaler = StandardScaler()\n",
    "    temp_player_data[num_cols] = scaler.fit_transform(temp_player_data[num_cols])\n",
    "    \n",
    "    y_temp = temp_player_data['winloss'].to_numpy()\n",
    "    X_temp = temp_player_data[columns_to_np].to_numpy()\n",
    "    y_other, X_other = dmatrices(simple_interact+' - 1', temp_player_data)\n",
    "    print(X_other.shape)\n",
    "\n",
    "    skf5 = StratifiedKFold(n_splits=5, shuffle=True, random_state=101)\n",
    "    temp_fit = LogisticRegression(penalty='elasticnet', solver='saga', random_state=101, max_iter=10001,fit_intercept=False,n_jobs=-1)\n",
    "    interaction_maker = PolynomialFeatures(degree=2, interaction_only=True)\n",
    "    temp_pca = PCA(n_components=12)\n",
    "\n",
    "    \n",
    "    pipeline_model_workflow = Pipeline(steps=[('pca', temp_pca),\n",
    "                                        ('make_pairs', interaction_maker),\n",
    "                                        ('enet', temp_fit)])\n",
    "    \n",
    "    pipeline_interact_grid = {'enet__C': np.exp(np.linspace(-6, 6, num=11)),\n",
    "                             'enet__l1_ratio': np.linspace(0, 1, num=3)}\n",
    "    \n",
    "    pipeline_interact_search = GridSearchCV(pipeline_model_workflow, pipeline_interact_grid, cv=skf5)\n",
    "    \n",
    "    \n",
    "    pipeline_interact_search_results = pipeline_interact_search.fit(X_temp, y_temp)\n",
    "    print('I made it past the pipeline!')\n",
    "    \n",
    "    pipeline_summary_dictionary['player_'+str(instance)] = pipeline_interact_search_results.best_score_\n",
    "    \n",
    "    interaction_table = pipeline_interact_search_results.best_estimator_.named_steps['make_pairs'].reshape(-1,1)\n",
    "    \n",
    "    temp_player_data['pred_prob'] = pipeline_interact_search_results.best_estimator_.named_steps['enet'].predict_proba(interaction_table).tolist()\n",
    "    temp_player_data['pred_class'] = pipeline_interact_search_results.best_estimator_.named_steps['enet'].predict(interaction_table).tolist()\n",
    "    \n",
    "    class_dict['player_'+str(instance)] = temp_player_data\n",
    "    \n",
    "\n",
    "    \n"
   ]
  },
  {
   "cell_type": "code",
   "execution_count": 111,
   "metadata": {},
   "outputs": [
    {
     "name": "stdout",
     "output_type": "stream",
     "text": [
      "player_1 best fit l1 ratio = [0.]\n",
      "player_2 best fit l1 ratio = [0.]\n",
      "player_3 best fit l1 ratio = [0.5]\n",
      "player_4 best fit l1 ratio = [0.]\n",
      "player_5 best fit l1 ratio = [0.]\n",
      "player_6 best fit l1 ratio = [0.]\n",
      "player_7 best fit l1 ratio = [1.]\n",
      "player_8 best fit l1 ratio = [0.]\n",
      "player_9 best fit l1 ratio = [0.]\n",
      "player_10 best fit l1 ratio = [0.5]\n",
      "player_11 best fit l1 ratio = [0.]\n",
      "player_12 best fit l1 ratio = [0.]\n",
      "player_13 best fit l1 ratio = [0.]\n",
      "player_14 best fit l1 ratio = [0.]\n",
      "player_15 best fit l1 ratio = [0.5]\n",
      "player_16 best fit l1 ratio = [0.5]\n",
      "player_17 best fit l1 ratio = [0.5]\n",
      "player_18 best fit l1 ratio = [0.]\n",
      "player_19 best fit l1 ratio = [1.]\n",
      "player_20 best fit l1 ratio = [1.]\n",
      "player_21 best fit l1 ratio = [1.]\n",
      "player_22 best fit l1 ratio = [0.5]\n",
      "player_23 best fit l1 ratio = [0.]\n",
      "player_24 best fit l1 ratio = [0.]\n",
      "player_25 best fit l1 ratio = [0.5]\n"
     ]
    }
   ],
   "source": [
    "tracker = 1\n",
    "#for every player's subset of data in the list\n",
    "for different_player in players_separated_list:\n",
    "    #need to lump\n",
    "    series = pd.value_counts(different_player.championPlayed)\n",
    "    mask = (series/series.sum() * 100).lt(10)\n",
    "    different_player['championPlayed'] = np.where(different_player['championPlayed'].isin(series[mask].index),'Other',different_player['championPlayed'])\n",
    "    different_player['championPlayed'] = different_player['championPlayed'].astype('category')\n",
    "    different_player['championPlayed'] = different_player['championPlayed'].replace('Other','0')\n",
    "    \n",
    "    #simple model stuff\n",
    "    #SimpleModelFit(tracker,different_player,simple_additive,simple_summary_dictionary,simple_classification_dictionary,columns_to_standardize)\n",
    "    \n",
    "    #trying out interacting pair features\n",
    "    #SimpleModelFit(tracker,different_player,simple_interact,interactions_summary_dictionary,interactions_classification_dictionary,columns_to_standardize)\n",
    "    \n",
    "    #trying out CV on a more complex model\n",
    "    PCA_CVFit(tracker,different_player,simple_interact,CVsimple_summary_dictionary,CVsimple_classification_dictionary,columns_to_standardize)\n",
    "    \n",
    "    #PIPELINE\n",
    "    \n",
    "    #trying out the three interactions\n",
    "    #SimpleModelFit(tracker,different_player,three_interact,three_summary_dictionary,three_classification_dictionary,columns_to_standardize)\n",
    "    \n",
    "    #do DataPipeline (for each fold: standardize, PCA?, polynomialFeatures, fit_model/potentially penalize)\n",
    "    #store summaries\n",
    "    #store scores\n",
    "    \n",
    "    tracker = tracker + 1"
   ]
  },
  {
   "cell_type": "markdown",
   "metadata": {},
   "source": [
    "When we fit the model on the PCA data set, there seems to be more of a mixed bag in terms of the best penalization parameter"
   ]
  },
  {
   "cell_type": "code",
   "execution_count": 67,
   "metadata": {},
   "outputs": [
    {
     "data": {
      "text/plain": [
       "{'player_1': 0.866,\n",
       " 'player_2': 0.852,\n",
       " 'player_3': 0.842,\n",
       " 'player_4': 0.854,\n",
       " 'player_5': 0.856,\n",
       " 'player_6': 0.8446601941747572,\n",
       " 'player_7': 0.806,\n",
       " 'player_8': 0.848,\n",
       " 'player_9': 0.8791946308724832,\n",
       " 'player_10': 0.8741721854304636,\n",
       " 'player_11': 0.872,\n",
       " 'player_12': 0.8406593406593407,\n",
       " 'player_13': 0.856,\n",
       " 'player_14': 0.862,\n",
       " 'player_15': 0.836,\n",
       " 'player_16': 0.86,\n",
       " 'player_17': 0.882,\n",
       " 'player_18': 0.842,\n",
       " 'player_19': 0.7392290249433107,\n",
       " 'player_20': 0.85546875,\n",
       " 'player_21': 0.842,\n",
       " 'player_22': 0.87,\n",
       " 'player_23': 0.83,\n",
       " 'player_24': 0.804,\n",
       " 'player_25': 0.85}"
      ]
     },
     "execution_count": 67,
     "metadata": {},
     "output_type": "execute_result"
    }
   ],
   "source": [
    "CVsimple_summary_dictionary"
   ]
  },
  {
   "cell_type": "code",
   "execution_count": 69,
   "metadata": {},
   "outputs": [],
   "source": [
    "coef_list = []\n",
    "for v in PCAcoefficients.values():\n",
    "    coef_list.append(v[0])"
   ]
  },
  {
   "cell_type": "code",
   "execution_count": 71,
   "metadata": {},
   "outputs": [],
   "source": [
    "coef_frame = pd.DataFrame(coef_list,index=PCAcoefficients.keys())"
   ]
  },
  {
   "cell_type": "code",
   "execution_count": 72,
   "metadata": {},
   "outputs": [
    {
     "data": {
      "text/html": [
       "<div>\n",
       "<style scoped>\n",
       "    .dataframe tbody tr th:only-of-type {\n",
       "        vertical-align: middle;\n",
       "    }\n",
       "\n",
       "    .dataframe tbody tr th {\n",
       "        vertical-align: top;\n",
       "    }\n",
       "\n",
       "    .dataframe thead th {\n",
       "        text-align: right;\n",
       "    }\n",
       "</style>\n",
       "<table border=\"1\" class=\"dataframe\">\n",
       "  <thead>\n",
       "    <tr style=\"text-align: right;\">\n",
       "      <th></th>\n",
       "      <th>0</th>\n",
       "      <th>1</th>\n",
       "      <th>2</th>\n",
       "      <th>3</th>\n",
       "      <th>4</th>\n",
       "      <th>5</th>\n",
       "      <th>6</th>\n",
       "      <th>7</th>\n",
       "      <th>8</th>\n",
       "      <th>9</th>\n",
       "      <th>10</th>\n",
       "      <th>11</th>\n",
       "    </tr>\n",
       "  </thead>\n",
       "  <tbody>\n",
       "    <tr>\n",
       "      <th>player_1</th>\n",
       "      <td>0.059105</td>\n",
       "      <td>0.230979</td>\n",
       "      <td>-0.194193</td>\n",
       "      <td>-0.212663</td>\n",
       "      <td>0.708627</td>\n",
       "      <td>0.294871</td>\n",
       "      <td>0.131535</td>\n",
       "      <td>0.164215</td>\n",
       "      <td>0.228008</td>\n",
       "      <td>0.328093</td>\n",
       "      <td>0.345195</td>\n",
       "      <td>0.145455</td>\n",
       "    </tr>\n",
       "    <tr>\n",
       "      <th>player_2</th>\n",
       "      <td>0.078303</td>\n",
       "      <td>0.222623</td>\n",
       "      <td>0.147904</td>\n",
       "      <td>0.605105</td>\n",
       "      <td>0.349320</td>\n",
       "      <td>0.118037</td>\n",
       "      <td>0.310572</td>\n",
       "      <td>-0.258952</td>\n",
       "      <td>-0.127637</td>\n",
       "      <td>-0.152905</td>\n",
       "      <td>-0.162214</td>\n",
       "      <td>-0.478967</td>\n",
       "    </tr>\n",
       "    <tr>\n",
       "      <th>player_3</th>\n",
       "      <td>0.147301</td>\n",
       "      <td>0.222694</td>\n",
       "      <td>-0.146007</td>\n",
       "      <td>-0.089517</td>\n",
       "      <td>-0.025301</td>\n",
       "      <td>-0.074499</td>\n",
       "      <td>0.145525</td>\n",
       "      <td>0.109628</td>\n",
       "      <td>1.110735</td>\n",
       "      <td>0.194908</td>\n",
       "      <td>-0.593038</td>\n",
       "      <td>-0.031539</td>\n",
       "    </tr>\n",
       "    <tr>\n",
       "      <th>player_4</th>\n",
       "      <td>0.013570</td>\n",
       "      <td>0.244700</td>\n",
       "      <td>-0.134892</td>\n",
       "      <td>-0.017614</td>\n",
       "      <td>-0.018152</td>\n",
       "      <td>-0.300719</td>\n",
       "      <td>-0.629890</td>\n",
       "      <td>0.178235</td>\n",
       "      <td>0.354621</td>\n",
       "      <td>0.257124</td>\n",
       "      <td>-0.104646</td>\n",
       "      <td>-0.198971</td>\n",
       "    </tr>\n",
       "    <tr>\n",
       "      <th>player_5</th>\n",
       "      <td>0.040436</td>\n",
       "      <td>0.215192</td>\n",
       "      <td>-0.008252</td>\n",
       "      <td>0.185714</td>\n",
       "      <td>-0.123201</td>\n",
       "      <td>-0.681657</td>\n",
       "      <td>-0.125708</td>\n",
       "      <td>-0.036449</td>\n",
       "      <td>0.770951</td>\n",
       "      <td>-0.245962</td>\n",
       "      <td>0.401106</td>\n",
       "      <td>0.666761</td>\n",
       "    </tr>\n",
       "    <tr>\n",
       "      <th>player_6</th>\n",
       "      <td>0.029604</td>\n",
       "      <td>0.076475</td>\n",
       "      <td>0.051653</td>\n",
       "      <td>0.001040</td>\n",
       "      <td>-0.100774</td>\n",
       "      <td>-0.690515</td>\n",
       "      <td>-0.435555</td>\n",
       "      <td>-0.159940</td>\n",
       "      <td>-0.296086</td>\n",
       "      <td>-0.323001</td>\n",
       "      <td>0.453871</td>\n",
       "      <td>0.271126</td>\n",
       "    </tr>\n",
       "    <tr>\n",
       "      <th>player_7</th>\n",
       "      <td>0.059740</td>\n",
       "      <td>-0.123291</td>\n",
       "      <td>0.015794</td>\n",
       "      <td>0.072773</td>\n",
       "      <td>-0.029653</td>\n",
       "      <td>0.000000</td>\n",
       "      <td>-0.472547</td>\n",
       "      <td>0.153974</td>\n",
       "      <td>0.000000</td>\n",
       "      <td>0.000000</td>\n",
       "      <td>-0.366367</td>\n",
       "      <td>0.000000</td>\n",
       "    </tr>\n",
       "    <tr>\n",
       "      <th>player_8</th>\n",
       "      <td>0.071947</td>\n",
       "      <td>0.145502</td>\n",
       "      <td>0.046608</td>\n",
       "      <td>-0.126446</td>\n",
       "      <td>-0.100324</td>\n",
       "      <td>-0.022531</td>\n",
       "      <td>0.246050</td>\n",
       "      <td>0.926996</td>\n",
       "      <td>0.412503</td>\n",
       "      <td>0.000000</td>\n",
       "      <td>0.467643</td>\n",
       "      <td>0.000000</td>\n",
       "    </tr>\n",
       "    <tr>\n",
       "      <th>player_9</th>\n",
       "      <td>0.132238</td>\n",
       "      <td>0.121049</td>\n",
       "      <td>0.009730</td>\n",
       "      <td>-0.020686</td>\n",
       "      <td>-0.009772</td>\n",
       "      <td>-0.006341</td>\n",
       "      <td>-0.581219</td>\n",
       "      <td>-0.639185</td>\n",
       "      <td>-0.382952</td>\n",
       "      <td>0.161888</td>\n",
       "      <td>-0.050364</td>\n",
       "      <td>0.074473</td>\n",
       "    </tr>\n",
       "    <tr>\n",
       "      <th>player_10</th>\n",
       "      <td>0.349379</td>\n",
       "      <td>-0.249318</td>\n",
       "      <td>-0.257991</td>\n",
       "      <td>0.131381</td>\n",
       "      <td>0.124914</td>\n",
       "      <td>-0.029309</td>\n",
       "      <td>0.316337</td>\n",
       "      <td>-0.633265</td>\n",
       "      <td>0.333140</td>\n",
       "      <td>-0.420829</td>\n",
       "      <td>-0.046319</td>\n",
       "      <td>-0.685905</td>\n",
       "    </tr>\n",
       "    <tr>\n",
       "      <th>player_11</th>\n",
       "      <td>-0.060872</td>\n",
       "      <td>0.128808</td>\n",
       "      <td>0.292951</td>\n",
       "      <td>0.209627</td>\n",
       "      <td>-0.145299</td>\n",
       "      <td>-0.680087</td>\n",
       "      <td>0.374811</td>\n",
       "      <td>-0.053998</td>\n",
       "      <td>0.117780</td>\n",
       "      <td>-0.703236</td>\n",
       "      <td>0.696274</td>\n",
       "      <td>-0.601222</td>\n",
       "    </tr>\n",
       "    <tr>\n",
       "      <th>player_12</th>\n",
       "      <td>-0.051279</td>\n",
       "      <td>0.319936</td>\n",
       "      <td>-0.055036</td>\n",
       "      <td>-0.344786</td>\n",
       "      <td>0.186155</td>\n",
       "      <td>-0.756765</td>\n",
       "      <td>-0.618341</td>\n",
       "      <td>0.159645</td>\n",
       "      <td>0.251149</td>\n",
       "      <td>-0.092839</td>\n",
       "      <td>-0.285056</td>\n",
       "      <td>-0.102158</td>\n",
       "    </tr>\n",
       "    <tr>\n",
       "      <th>player_13</th>\n",
       "      <td>0.047750</td>\n",
       "      <td>-0.223286</td>\n",
       "      <td>-0.099117</td>\n",
       "      <td>0.042134</td>\n",
       "      <td>0.215956</td>\n",
       "      <td>-0.329256</td>\n",
       "      <td>0.426917</td>\n",
       "      <td>0.664031</td>\n",
       "      <td>0.382849</td>\n",
       "      <td>-0.120744</td>\n",
       "      <td>-0.083131</td>\n",
       "      <td>-0.334234</td>\n",
       "    </tr>\n",
       "    <tr>\n",
       "      <th>player_14</th>\n",
       "      <td>0.030029</td>\n",
       "      <td>0.206224</td>\n",
       "      <td>0.042370</td>\n",
       "      <td>0.076933</td>\n",
       "      <td>0.073054</td>\n",
       "      <td>-0.371638</td>\n",
       "      <td>-0.068544</td>\n",
       "      <td>-0.519566</td>\n",
       "      <td>0.544641</td>\n",
       "      <td>0.623241</td>\n",
       "      <td>0.069013</td>\n",
       "      <td>-0.204254</td>\n",
       "    </tr>\n",
       "    <tr>\n",
       "      <th>player_15</th>\n",
       "      <td>0.058609</td>\n",
       "      <td>0.169224</td>\n",
       "      <td>0.000000</td>\n",
       "      <td>0.011923</td>\n",
       "      <td>0.040083</td>\n",
       "      <td>0.000000</td>\n",
       "      <td>0.119219</td>\n",
       "      <td>-0.181733</td>\n",
       "      <td>-0.301325</td>\n",
       "      <td>0.396851</td>\n",
       "      <td>0.134406</td>\n",
       "      <td>0.000000</td>\n",
       "    </tr>\n",
       "    <tr>\n",
       "      <th>player_16</th>\n",
       "      <td>0.084799</td>\n",
       "      <td>0.237212</td>\n",
       "      <td>-0.056391</td>\n",
       "      <td>0.033742</td>\n",
       "      <td>0.076463</td>\n",
       "      <td>-0.084503</td>\n",
       "      <td>-0.299886</td>\n",
       "      <td>-0.341548</td>\n",
       "      <td>0.691195</td>\n",
       "      <td>0.519292</td>\n",
       "      <td>0.245978</td>\n",
       "      <td>0.035620</td>\n",
       "    </tr>\n",
       "    <tr>\n",
       "      <th>player_17</th>\n",
       "      <td>-0.004075</td>\n",
       "      <td>0.260480</td>\n",
       "      <td>0.207928</td>\n",
       "      <td>0.142645</td>\n",
       "      <td>-0.066340</td>\n",
       "      <td>-0.316286</td>\n",
       "      <td>-1.133261</td>\n",
       "      <td>-0.141730</td>\n",
       "      <td>0.745354</td>\n",
       "      <td>0.304644</td>\n",
       "      <td>0.164942</td>\n",
       "      <td>0.546366</td>\n",
       "    </tr>\n",
       "    <tr>\n",
       "      <th>player_18</th>\n",
       "      <td>-0.034035</td>\n",
       "      <td>0.207898</td>\n",
       "      <td>-0.035199</td>\n",
       "      <td>-0.060316</td>\n",
       "      <td>0.232370</td>\n",
       "      <td>-0.021664</td>\n",
       "      <td>0.596750</td>\n",
       "      <td>-0.342144</td>\n",
       "      <td>-0.374704</td>\n",
       "      <td>0.298127</td>\n",
       "      <td>-0.394755</td>\n",
       "      <td>-0.905297</td>\n",
       "    </tr>\n",
       "    <tr>\n",
       "      <th>player_19</th>\n",
       "      <td>0.042667</td>\n",
       "      <td>0.203200</td>\n",
       "      <td>0.004783</td>\n",
       "      <td>-0.042587</td>\n",
       "      <td>-0.071989</td>\n",
       "      <td>0.033558</td>\n",
       "      <td>-0.039193</td>\n",
       "      <td>0.269381</td>\n",
       "      <td>-0.647357</td>\n",
       "      <td>0.195138</td>\n",
       "      <td>-0.247836</td>\n",
       "      <td>-0.238899</td>\n",
       "    </tr>\n",
       "    <tr>\n",
       "      <th>player_20</th>\n",
       "      <td>0.018257</td>\n",
       "      <td>-0.267732</td>\n",
       "      <td>0.160826</td>\n",
       "      <td>-0.147079</td>\n",
       "      <td>-0.145225</td>\n",
       "      <td>-0.013533</td>\n",
       "      <td>0.169461</td>\n",
       "      <td>0.974932</td>\n",
       "      <td>0.289146</td>\n",
       "      <td>-0.529052</td>\n",
       "      <td>0.212997</td>\n",
       "      <td>0.448897</td>\n",
       "    </tr>\n",
       "    <tr>\n",
       "      <th>player_21</th>\n",
       "      <td>0.088306</td>\n",
       "      <td>0.291301</td>\n",
       "      <td>0.182099</td>\n",
       "      <td>-0.123078</td>\n",
       "      <td>0.361629</td>\n",
       "      <td>0.128769</td>\n",
       "      <td>-0.791187</td>\n",
       "      <td>0.228309</td>\n",
       "      <td>0.864355</td>\n",
       "      <td>0.446917</td>\n",
       "      <td>-0.055562</td>\n",
       "      <td>0.353562</td>\n",
       "    </tr>\n",
       "    <tr>\n",
       "      <th>player_22</th>\n",
       "      <td>0.002121</td>\n",
       "      <td>-0.136418</td>\n",
       "      <td>0.235316</td>\n",
       "      <td>0.491875</td>\n",
       "      <td>-0.059966</td>\n",
       "      <td>-0.112230</td>\n",
       "      <td>-0.595367</td>\n",
       "      <td>0.716440</td>\n",
       "      <td>0.290556</td>\n",
       "      <td>0.036616</td>\n",
       "      <td>0.945902</td>\n",
       "      <td>-0.069344</td>\n",
       "    </tr>\n",
       "    <tr>\n",
       "      <th>player_23</th>\n",
       "      <td>0.035889</td>\n",
       "      <td>0.024547</td>\n",
       "      <td>0.052484</td>\n",
       "      <td>-0.028635</td>\n",
       "      <td>0.000000</td>\n",
       "      <td>0.000000</td>\n",
       "      <td>-0.124025</td>\n",
       "      <td>0.409419</td>\n",
       "      <td>-0.062469</td>\n",
       "      <td>0.304920</td>\n",
       "      <td>0.394976</td>\n",
       "      <td>-0.476455</td>\n",
       "    </tr>\n",
       "    <tr>\n",
       "      <th>player_24</th>\n",
       "      <td>0.054300</td>\n",
       "      <td>-0.267560</td>\n",
       "      <td>-0.030490</td>\n",
       "      <td>0.091984</td>\n",
       "      <td>-0.034678</td>\n",
       "      <td>-0.244484</td>\n",
       "      <td>-0.262481</td>\n",
       "      <td>0.545147</td>\n",
       "      <td>-1.125467</td>\n",
       "      <td>-0.135388</td>\n",
       "      <td>-0.195234</td>\n",
       "      <td>-0.488367</td>\n",
       "    </tr>\n",
       "    <tr>\n",
       "      <th>player_25</th>\n",
       "      <td>0.039207</td>\n",
       "      <td>-0.104226</td>\n",
       "      <td>0.000000</td>\n",
       "      <td>0.000000</td>\n",
       "      <td>0.000000</td>\n",
       "      <td>0.000000</td>\n",
       "      <td>0.000000</td>\n",
       "      <td>-0.542415</td>\n",
       "      <td>0.000000</td>\n",
       "      <td>0.000000</td>\n",
       "      <td>0.000000</td>\n",
       "      <td>0.000000</td>\n",
       "    </tr>\n",
       "  </tbody>\n",
       "</table>\n",
       "</div>"
      ],
      "text/plain": [
       "                 0         1         2         3         4         5   \\\n",
       "player_1   0.059105  0.230979 -0.194193 -0.212663  0.708627  0.294871   \n",
       "player_2   0.078303  0.222623  0.147904  0.605105  0.349320  0.118037   \n",
       "player_3   0.147301  0.222694 -0.146007 -0.089517 -0.025301 -0.074499   \n",
       "player_4   0.013570  0.244700 -0.134892 -0.017614 -0.018152 -0.300719   \n",
       "player_5   0.040436  0.215192 -0.008252  0.185714 -0.123201 -0.681657   \n",
       "player_6   0.029604  0.076475  0.051653  0.001040 -0.100774 -0.690515   \n",
       "player_7   0.059740 -0.123291  0.015794  0.072773 -0.029653  0.000000   \n",
       "player_8   0.071947  0.145502  0.046608 -0.126446 -0.100324 -0.022531   \n",
       "player_9   0.132238  0.121049  0.009730 -0.020686 -0.009772 -0.006341   \n",
       "player_10  0.349379 -0.249318 -0.257991  0.131381  0.124914 -0.029309   \n",
       "player_11 -0.060872  0.128808  0.292951  0.209627 -0.145299 -0.680087   \n",
       "player_12 -0.051279  0.319936 -0.055036 -0.344786  0.186155 -0.756765   \n",
       "player_13  0.047750 -0.223286 -0.099117  0.042134  0.215956 -0.329256   \n",
       "player_14  0.030029  0.206224  0.042370  0.076933  0.073054 -0.371638   \n",
       "player_15  0.058609  0.169224  0.000000  0.011923  0.040083  0.000000   \n",
       "player_16  0.084799  0.237212 -0.056391  0.033742  0.076463 -0.084503   \n",
       "player_17 -0.004075  0.260480  0.207928  0.142645 -0.066340 -0.316286   \n",
       "player_18 -0.034035  0.207898 -0.035199 -0.060316  0.232370 -0.021664   \n",
       "player_19  0.042667  0.203200  0.004783 -0.042587 -0.071989  0.033558   \n",
       "player_20  0.018257 -0.267732  0.160826 -0.147079 -0.145225 -0.013533   \n",
       "player_21  0.088306  0.291301  0.182099 -0.123078  0.361629  0.128769   \n",
       "player_22  0.002121 -0.136418  0.235316  0.491875 -0.059966 -0.112230   \n",
       "player_23  0.035889  0.024547  0.052484 -0.028635  0.000000  0.000000   \n",
       "player_24  0.054300 -0.267560 -0.030490  0.091984 -0.034678 -0.244484   \n",
       "player_25  0.039207 -0.104226  0.000000  0.000000  0.000000  0.000000   \n",
       "\n",
       "                 6         7         8         9         10        11  \n",
       "player_1   0.131535  0.164215  0.228008  0.328093  0.345195  0.145455  \n",
       "player_2   0.310572 -0.258952 -0.127637 -0.152905 -0.162214 -0.478967  \n",
       "player_3   0.145525  0.109628  1.110735  0.194908 -0.593038 -0.031539  \n",
       "player_4  -0.629890  0.178235  0.354621  0.257124 -0.104646 -0.198971  \n",
       "player_5  -0.125708 -0.036449  0.770951 -0.245962  0.401106  0.666761  \n",
       "player_6  -0.435555 -0.159940 -0.296086 -0.323001  0.453871  0.271126  \n",
       "player_7  -0.472547  0.153974  0.000000  0.000000 -0.366367  0.000000  \n",
       "player_8   0.246050  0.926996  0.412503  0.000000  0.467643  0.000000  \n",
       "player_9  -0.581219 -0.639185 -0.382952  0.161888 -0.050364  0.074473  \n",
       "player_10  0.316337 -0.633265  0.333140 -0.420829 -0.046319 -0.685905  \n",
       "player_11  0.374811 -0.053998  0.117780 -0.703236  0.696274 -0.601222  \n",
       "player_12 -0.618341  0.159645  0.251149 -0.092839 -0.285056 -0.102158  \n",
       "player_13  0.426917  0.664031  0.382849 -0.120744 -0.083131 -0.334234  \n",
       "player_14 -0.068544 -0.519566  0.544641  0.623241  0.069013 -0.204254  \n",
       "player_15  0.119219 -0.181733 -0.301325  0.396851  0.134406  0.000000  \n",
       "player_16 -0.299886 -0.341548  0.691195  0.519292  0.245978  0.035620  \n",
       "player_17 -1.133261 -0.141730  0.745354  0.304644  0.164942  0.546366  \n",
       "player_18  0.596750 -0.342144 -0.374704  0.298127 -0.394755 -0.905297  \n",
       "player_19 -0.039193  0.269381 -0.647357  0.195138 -0.247836 -0.238899  \n",
       "player_20  0.169461  0.974932  0.289146 -0.529052  0.212997  0.448897  \n",
       "player_21 -0.791187  0.228309  0.864355  0.446917 -0.055562  0.353562  \n",
       "player_22 -0.595367  0.716440  0.290556  0.036616  0.945902 -0.069344  \n",
       "player_23 -0.124025  0.409419 -0.062469  0.304920  0.394976 -0.476455  \n",
       "player_24 -0.262481  0.545147 -1.125467 -0.135388 -0.195234 -0.488367  \n",
       "player_25  0.000000 -0.542415  0.000000  0.000000  0.000000  0.000000  "
      ]
     },
     "execution_count": 72,
     "metadata": {},
     "output_type": "execute_result"
    }
   ],
   "source": [
    "coef_frame"
   ]
  },
  {
   "cell_type": "markdown",
   "metadata": {},
   "source": [
    "**PC2 looks like it is important across all players, could mean the performance metrics that contribute to it are generally are more of a deciding factor**"
   ]
  },
  {
   "cell_type": "markdown",
   "metadata": {},
   "source": [
    "### Neural Network and other Models"
   ]
  },
  {
   "cell_type": "markdown",
   "metadata": {},
   "source": [
    "#### Player 1 with PCA"
   ]
  },
  {
   "cell_type": "code",
   "execution_count": 92,
   "metadata": {},
   "outputs": [
    {
     "name": "stdout",
     "output_type": "stream",
     "text": [
      "0.938\n",
      "{'nnet__alpha': 0.0742735782143339, 'nnet__hidden_layer_sizes': 20, 'pca__n_components': 20}\n"
     ]
    }
   ],
   "source": [
    "#need to lump\n",
    "series = pd.value_counts(players_separated_list[0].championPlayed)\n",
    "mask = (series/series.sum() * 100).lt(10)\n",
    "players_separated_list[0].championPlayed = np.where(players_separated_list[0].championPlayed.isin(series[mask].index),'Other',players_separated_list[0].championPlayed)\n",
    "players_separated_list[0].championPlayed = players_separated_list[0].championPlayed.astype('category')\n",
    "players_separated_list[0].championPlayed = players_separated_list[0].championPlayed.replace('Other','0')\n",
    "players_separated_list[0] = players_separated_list[0].drop(['playerId'],axis=1)\n",
    "    \n",
    "skf5 = StratifiedKFold(n_splits=5, shuffle=True, random_state=101)\n",
    "yp1, Xp1 = dmatrices(simple_additive+' -1', players_separated_list[0])\n",
    "\n",
    "\n",
    "nn1_workflow = Pipeline(steps=[('std_scale', StandardScaler()), \n",
    "                                           ('pca', PCA()), \n",
    "                                           ('nnet', MLPClassifier(activation='relu',\n",
    "                                                                    solver='sgd',\n",
    "                                                                      batch_size=32,\n",
    "                                                                      max_iter=2001))])\n",
    "\n",
    "nn1_tune_grid = {'pca__n_components': [10, 20],\n",
    "                             'nnet__hidden_layer_sizes': [20, 30],\n",
    "                             'nnet__alpha': np.exp(np.linspace(-9, -1, 11))}\n",
    "\n",
    "nn1_search = GridSearchCV( nn1_workflow, nn1_tune_grid, cv=skf5)\n",
    "\n",
    "nn1_search_results = nn1_search.fit(Xp1, yp1.ravel())\n",
    "\n",
    "print(nn1_search_results.best_score_)\n",
    "\n",
    "print(nn1_search_results.best_params_)\n",
    "\n"
   ]
  },
  {
   "cell_type": "markdown",
   "metadata": {},
   "source": [
    "#### Player 1 no PCA"
   ]
  },
  {
   "cell_type": "code",
   "execution_count": 93,
   "metadata": {},
   "outputs": [
    {
     "name": "stdout",
     "output_type": "stream",
     "text": [
      "0.942\n",
      "{'nnet__alpha': 0.16529888822158656, 'nnet__hidden_layer_sizes': 20}\n"
     ]
    }
   ],
   "source": [
    "yp2, Xp2 = dmatrices(simple_additive+' -1', players_separated_list[0])\n",
    "\n",
    "\n",
    "nn2_workflow = Pipeline(steps=[('std_scale', StandardScaler()), \n",
    "                                           ('nnet', MLPClassifier(activation='relu',\n",
    "                                                                    solver='sgd',\n",
    "                                                                      batch_size=32,\n",
    "                                                                      max_iter=2001))])\n",
    "\n",
    "nn2_tune_grid = { 'nnet__hidden_layer_sizes': [20, 30],\n",
    "                             'nnet__alpha': np.exp(np.linspace(-9, -1, 11))}\n",
    "\n",
    "nn2_search = GridSearchCV( nn2_workflow, nn2_tune_grid, cv=skf5)\n",
    "\n",
    "nn2_search_results = nn2_search.fit(Xp2, yp2.ravel())\n",
    "\n",
    "print(nn2_search_results.best_score_)\n",
    "\n",
    "print(nn2_search_results.best_params_)"
   ]
  },
  {
   "cell_type": "markdown",
   "metadata": {},
   "source": [
    "#### Player 2 with PCA"
   ]
  },
  {
   "cell_type": "code",
   "execution_count": 94,
   "metadata": {},
   "outputs": [
    {
     "name": "stdout",
     "output_type": "stream",
     "text": [
      "0.938\n",
      "{'nnet__alpha': 0.0333732699603261, 'nnet__hidden_layer_sizes': 30, 'pca__n_components': 20}\n"
     ]
    }
   ],
   "source": [
    "#need to lump\n",
    "series = pd.value_counts(players_separated_list[1].championPlayed)\n",
    "mask = (series/series.sum() * 100).lt(10)\n",
    "players_separated_list[1].championPlayed = np.where(players_separated_list[1].championPlayed.isin(series[mask].index),'Other',players_separated_list[1].championPlayed)\n",
    "players_separated_list[1].championPlayed = players_separated_list[1].championPlayed.astype('category')\n",
    "players_separated_list[1].championPlayed = players_separated_list[1].championPlayed.replace('Other','0')\n",
    "players_separated_list[1] = players_separated_list[1].drop(['playerId'],axis=1)\n",
    "\n",
    "skf5 = StratifiedKFold(n_splits=5, shuffle=True, random_state=101)\n",
    "yp3, Xp3 = dmatrices(simple_additive+' -1', players_separated_list[1])\n",
    "\n",
    "\n",
    "nn3_workflow = Pipeline(steps=[('std_scale', StandardScaler()), \n",
    "                                           ('pca', PCA()), \n",
    "                                           ('nnet', MLPClassifier(activation='relu',\n",
    "                                                                    solver='sgd',\n",
    "                                                                      batch_size=32,\n",
    "                                                                      max_iter=2001))])\n",
    "\n",
    "nn3_tune_grid = {'pca__n_components': [10, 20],\n",
    "                             'nnet__hidden_layer_sizes': [20, 30],\n",
    "                             'nnet__alpha': np.exp(np.linspace(-9, -1, 11))}\n",
    "\n",
    "nn3_search = GridSearchCV( nn3_workflow, nn3_tune_grid, cv=skf5)\n",
    "\n",
    "nn3_search_results = nn3_search.fit(Xp3, yp3.ravel())\n",
    "\n",
    "print(nn3_search_results.best_score_)\n",
    "\n",
    "print(nn3_search_results.best_params_)"
   ]
  },
  {
   "cell_type": "markdown",
   "metadata": {},
   "source": [
    "#### Player 2 no PCA"
   ]
  },
  {
   "cell_type": "code",
   "execution_count": 95,
   "metadata": {},
   "outputs": [
    {
     "name": "stdout",
     "output_type": "stream",
     "text": [
      "0.942\n",
      "{'nnet__alpha': 0.00012340980408667956, 'nnet__hidden_layer_sizes': 30}\n"
     ]
    }
   ],
   "source": [
    "yp4, Xp4 = dmatrices(simple_additive+' -1', players_separated_list[1])\n",
    "\n",
    "\n",
    "nn4_workflow = Pipeline(steps=[('std_scale', StandardScaler()), \n",
    "                                           ('nnet', MLPClassifier(activation='relu',\n",
    "                                                                    solver='sgd',\n",
    "                                                                      batch_size=32,\n",
    "                                                                      max_iter=2001))])\n",
    "\n",
    "nn4_tune_grid = { 'nnet__hidden_layer_sizes': [20, 30],\n",
    "                             'nnet__alpha': np.exp(np.linspace(-9, -1, 11))}\n",
    "\n",
    "nn4_search = GridSearchCV( nn4_workflow, nn4_tune_grid, cv=skf5)\n",
    "\n",
    "nn4_search_results = nn4_search.fit(Xp4, yp4.ravel())\n",
    "\n",
    "print(nn4_search_results.best_score_)\n",
    "\n",
    "print(nn4_search_results.best_params_)"
   ]
  },
  {
   "cell_type": "markdown",
   "metadata": {},
   "source": [
    "Accuracy Scores aren't bad at all for this data"
   ]
  },
  {
   "cell_type": "markdown",
   "metadata": {},
   "source": [
    "No PCA seems to perform better"
   ]
  },
  {
   "cell_type": "markdown",
   "metadata": {},
   "source": [
    "### Random Forest"
   ]
  },
  {
   "cell_type": "markdown",
   "metadata": {},
   "source": [
    "##### Player 1"
   ]
  },
  {
   "cell_type": "code",
   "execution_count": 123,
   "metadata": {},
   "outputs": [
    {
     "name": "stdout",
     "output_type": "stream",
     "text": [
      "0.9279999999999999\n",
      "{'rf__max_features': 6}\n"
     ]
    }
   ],
   "source": [
    "rf1_workflow = Pipeline(steps = [('rf', RandomForestClassifier(n_estimators=500))])\n",
    "\n",
    "rf1_tune_grid = {'rf__max_features': [2, 4, 6, 8, 12]}\n",
    "\n",
    "rf1_search = GridSearchCV(rf1_workflow, rf1_tune_grid, cv=skf5)\n",
    "\n",
    "rf1_search_results = rf1_search.fit(Xp1, yp1.ravel())\n",
    "\n",
    "print(rf1_search_results.best_score_)\n",
    "\n",
    "print(rf1_search_results.best_params_)"
   ]
  },
  {
   "cell_type": "markdown",
   "metadata": {},
   "source": [
    "##### Player 2\n"
   ]
  },
  {
   "cell_type": "code",
   "execution_count": 124,
   "metadata": {},
   "outputs": [
    {
     "name": "stdout",
     "output_type": "stream",
     "text": [
      "0.9179999999999999\n",
      "{'rf__max_features': 4}\n"
     ]
    }
   ],
   "source": [
    "rf2_workflow = Pipeline(steps = [('rf', RandomForestClassifier(n_estimators=500))])\n",
    "\n",
    "#less champions played categories, so lower max features\n",
    "rf2_tune_grid = {'rf__max_features': [2, 4, 6, 8, 12]}\n",
    "\n",
    "rf2_search = GridSearchCV(rf2_workflow, rf2_tune_grid, cv=skf5)\n",
    "\n",
    "rf2_search_results = rf2_search.fit(Xp3, yp3.ravel())\n",
    "\n",
    "print(rf2_search_results.best_score_)\n",
    "\n",
    "print(rf2_search_results.best_params_)"
   ]
  },
  {
   "cell_type": "markdown",
   "metadata": {},
   "source": [
    "Random Forest slightly less accurate than Neural Net, better than PCA Logistic Regression, but still doesn't top ElasticNet Logistic Regression"
   ]
  },
  {
   "cell_type": "markdown",
   "metadata": {},
   "source": [
    "#### Support Vector Machines"
   ]
  },
  {
   "cell_type": "markdown",
   "metadata": {},
   "source": [
    "##### Player 1"
   ]
  },
  {
   "cell_type": "code",
   "execution_count": 102,
   "metadata": {},
   "outputs": [
    {
     "name": "stdout",
     "output_type": "stream",
     "text": [
      "0.9339999999999999\n",
      "{'svm__C': 1.0}\n"
     ]
    }
   ],
   "source": [
    "svm1_rbf_workflow = Pipeline(steps=[('std_scale', StandardScaler()),\n",
    "                                   ('svm', SVC(gamma='scale', kernel='rbf', probability=True))])\n",
    "svm1_rbf_tune_grid = {'svm__C': [0.001, 0.01, 0.1, 0.5, 1.0, 5.0, 10, 50, 100, 500, 1000]}\n",
    "svm1_rbf_search = GridSearchCV( svm1_rbf_workflow, svm1_rbf_tune_grid, cv=skf5)\n",
    "svm1_rbf_search_results = svm1_rbf_search.fit(Xp1, yp1.ravel())\n",
    "\n",
    "print(svm1_rbf_search_results.best_score_)\n",
    "print(svm1_rbf_search_results.best_params_)"
   ]
  },
  {
   "cell_type": "markdown",
   "metadata": {},
   "source": [
    "##### Player 1 PCA"
   ]
  },
  {
   "cell_type": "code",
   "execution_count": 105,
   "metadata": {},
   "outputs": [
    {
     "name": "stdout",
     "output_type": "stream",
     "text": [
      "0.938\n",
      "{'pca__n_components': 18, 'svm__C': 1.0}\n"
     ]
    }
   ],
   "source": [
    "pca_svm1_rbf_workflow = Pipeline(steps=[('std_scale', StandardScaler()),\n",
    "                                       ('pca', PCA()), \n",
    "                                       ('svm', SVC(gamma='scale', kernel='rbf', probability=True))])\n",
    "pca_svm1_rbf_tune_grid = {'pca__n_components': [2,5,7,9,12,15,18,22],\n",
    "                         'svm__C': [0.001, 0.005, 0.01, 0.05, 0.1, 0.5, 1.0, 5.0, 10, 50, 100, 500, 1000]}\n",
    "pca_svm1_rbf_search = GridSearchCV( pca_svm1_rbf_workflow, pca_svm1_rbf_tune_grid, cv=skf5 )\n",
    "pca_svm1_rbf_search_results = pca_svm1_rbf_search.fit(Xp1, yp1.ravel())\n",
    "print(pca_svm1_rbf_search_results.best_score_)\n",
    "print(pca_svm1_rbf_search_results.best_params_)"
   ]
  },
  {
   "cell_type": "markdown",
   "metadata": {},
   "source": [
    "##### Player 2"
   ]
  },
  {
   "cell_type": "code",
   "execution_count": 103,
   "metadata": {},
   "outputs": [
    {
     "name": "stdout",
     "output_type": "stream",
     "text": [
      "0.9259999999999999\n",
      "{'svm__C': 50}\n"
     ]
    }
   ],
   "source": [
    "svm2_rbf_workflow = Pipeline(steps=[('std_scale', StandardScaler()),\n",
    "                                   ('svm', SVC(gamma='scale', kernel='rbf', probability=True))])\n",
    "svm2_rbf_tune_grid = {'svm__C': [0.001, 0.01, 0.1, 0.5, 1.0, 5.0, 10, 50, 100, 500, 1000]}\n",
    "svm2_rbf_search = GridSearchCV( svm2_rbf_workflow, svm2_rbf_tune_grid, cv=skf5)\n",
    "svm2_rbf_search_results = svm2_rbf_search.fit(Xp3, yp3.ravel())\n",
    "\n",
    "print(svm2_rbf_search_results.best_score_)\n",
    "print(svm2_rbf_search_results.best_params_)"
   ]
  },
  {
   "cell_type": "markdown",
   "metadata": {},
   "source": [
    "##### Player 2 PCA"
   ]
  },
  {
   "cell_type": "code",
   "execution_count": 106,
   "metadata": {},
   "outputs": [
    {
     "name": "stdout",
     "output_type": "stream",
     "text": [
      "0.9280000000000002\n",
      "{'pca__n_components': 18, 'svm__C': 50}\n"
     ]
    }
   ],
   "source": [
    "pca_svm2_rbf_workflow = Pipeline(steps=[('std_scale', StandardScaler()),\n",
    "                                       ('pca', PCA()), \n",
    "                                       ('svm', SVC(gamma='scale', kernel='rbf', probability=True))])\n",
    "pca_svm2_rbf_tune_grid = {'pca__n_components': [2,5,7,9,12,15,18,20],\n",
    "                         'svm__C': [0.001, 0.005, 0.01, 0.05, 0.1, 0.5, 1.0, 5.0, 10, 50, 100, 500, 1000]}\n",
    "pca_svm2_rbf_search = GridSearchCV( pca_svm2_rbf_workflow, pca_svm2_rbf_tune_grid, cv=skf5 )\n",
    "pca_svm2_rbf_search_results = pca_svm2_rbf_search.fit(Xp3, yp3.ravel())\n",
    "print(pca_svm2_rbf_search_results.best_score_)\n",
    "print(pca_svm2_rbf_search_results.best_params_)"
   ]
  },
  {
   "cell_type": "markdown",
   "metadata": {},
   "source": [
    "The SVMs perform similarly to the Random Trees, those without PCA look better. "
   ]
  },
  {
   "cell_type": "code",
   "execution_count": 122,
   "metadata": {},
   "outputs": [
    {
     "data": {
      "text/plain": [
       "{'player_1': 0.950876682194617,\n",
       " 'player_2': 0.9387519260400615,\n",
       " 'player_3': 0.9338549416790668,\n",
       " 'player_4': 0.9162660256410258,\n",
       " 'player_5': 0.9357920173859453,\n",
       " 'player_6': 0.8939123031077053,\n",
       " 'player_7': 0.9098933372061125,\n",
       " 'player_8': 0.9411393633540371,\n",
       " 'player_9': 0.9706959706959708,\n",
       " 'player_10': 0.9362254356692621,\n",
       " 'player_11': 0.9502850260939382,\n",
       " 'player_12': 0.9227678571428571,\n",
       " 'player_13': 0.9523356805620459,\n",
       " 'player_14': 0.9475268610590705,\n",
       " 'player_15': 0.8834621578099838,\n",
       " 'player_16': 0.9397138691744502,\n",
       " 'player_17': 0.9404973499223392,\n",
       " 'player_18': 0.9250424242424242,\n",
       " 'player_19': 0.8596668775036896,\n",
       " 'player_20': 0.9251320285803045,\n",
       " 'player_21': 0.9209869431643626,\n",
       " 'player_22': 0.9668823691594091,\n",
       " 'player_23': 0.9194379767161782,\n",
       " 'player_24': 0.925740488690129,\n",
       " 'player_25': 0.9201816897791474}"
      ]
     },
     "execution_count": 122,
     "metadata": {},
     "output_type": "execute_result"
    }
   ],
   "source": [
    "auc_scores"
   ]
  },
  {
   "cell_type": "markdown",
   "metadata": {},
   "source": [
    "## Scoring"
   ]
  },
  {
   "cell_type": "markdown",
   "metadata": {},
   "source": [
    "#### Player 1"
   ]
  },
  {
   "cell_type": "markdown",
   "metadata": {},
   "source": [
    "player 1 had  0.9924 auc score on the Logistic Regression CV"
   ]
  },
  {
   "cell_type": "markdown",
   "metadata": {},
   "source": [
    "player 1 had 0.9508 auc score on the PCA Logistic Regression"
   ]
  },
  {
   "cell_type": "code",
   "execution_count": 114,
   "metadata": {},
   "outputs": [
    {
     "data": {
      "text/plain": [
       "0.9933035714285714"
      ]
     },
     "execution_count": 114,
     "metadata": {},
     "output_type": "execute_result"
    }
   ],
   "source": [
    "neural_net1 = roc_auc_score(yp1, nn1_search_results.predict_proba(Xp1)[:, 1])\n",
    "neural_net1"
   ]
  },
  {
   "cell_type": "code",
   "execution_count": 115,
   "metadata": {},
   "outputs": [
    {
     "data": {
      "text/plain": [
       "0.9956812888198758"
      ]
     },
     "execution_count": 115,
     "metadata": {},
     "output_type": "execute_result"
    }
   ],
   "source": [
    "pca_neural_net2 = roc_auc_score(yp2, nn2_search_results.predict_proba(Xp2)[:, 1])\n",
    "pca_neural_net2"
   ]
  },
  {
   "cell_type": "code",
   "execution_count": 128,
   "metadata": {},
   "outputs": [
    {
     "data": {
      "text/plain": [
       "1.0"
      ]
     },
     "execution_count": 128,
     "metadata": {},
     "output_type": "execute_result"
    }
   ],
   "source": [
    "rforest1 = roc_auc_score(yp1, rf1_search_results.predict_proba(Xp1)[:, 1])\n",
    "rforest1"
   ]
  },
  {
   "cell_type": "markdown",
   "metadata": {},
   "source": [
    "overfit?"
   ]
  },
  {
   "cell_type": "code",
   "execution_count": 126,
   "metadata": {},
   "outputs": [
    {
     "data": {
      "text/plain": [
       "0.9953254399585922"
      ]
     },
     "execution_count": 126,
     "metadata": {},
     "output_type": "execute_result"
    }
   ],
   "source": [
    "svm1 = roc_auc_score(yp1, svm1_rbf_search_results.predict_proba(Xp1)[:, 1])\n",
    "svm1\n"
   ]
  },
  {
   "cell_type": "markdown",
   "metadata": {},
   "source": [
    "#### Player 2"
   ]
  },
  {
   "cell_type": "markdown",
   "metadata": {},
   "source": [
    "player 2 had 0.9991 auc score on the Logistic Regression CV"
   ]
  },
  {
   "cell_type": "markdown",
   "metadata": {},
   "source": [
    "player 2 had 0.9387 auc score on the PCA Logistic Regression"
   ]
  },
  {
   "cell_type": "code",
   "execution_count": 116,
   "metadata": {},
   "outputs": [
    {
     "data": {
      "text/plain": [
       "0.9980418592706728"
      ]
     },
     "execution_count": 116,
     "metadata": {},
     "output_type": "execute_result"
    }
   ],
   "source": [
    "neural_net3 = roc_auc_score(yp3, nn3_search_results.predict_proba(Xp3)[:, 1])\n",
    "neural_net3"
   ]
  },
  {
   "cell_type": "code",
   "execution_count": 117,
   "metadata": {},
   "outputs": [
    {
     "data": {
      "text/plain": [
       "0.9993740369799692"
      ]
     },
     "execution_count": 117,
     "metadata": {},
     "output_type": "execute_result"
    }
   ],
   "source": [
    "neural_net4 = roc_auc_score(yp4, nn4_search_results.predict_proba(Xp4)[:, 1])\n",
    "neural_net4"
   ]
  },
  {
   "cell_type": "code",
   "execution_count": 127,
   "metadata": {},
   "outputs": [
    {
     "data": {
      "text/plain": [
       "1.0"
      ]
     },
     "execution_count": 127,
     "metadata": {},
     "output_type": "execute_result"
    }
   ],
   "source": [
    "rforest2 = roc_auc_score(yp3, rf2_search_results.predict_proba(Xp3)[:, 1])\n",
    "rforest2"
   ]
  },
  {
   "cell_type": "markdown",
   "metadata": {},
   "source": [
    "overfit?"
   ]
  },
  {
   "cell_type": "code",
   "execution_count": 121,
   "metadata": {},
   "outputs": [
    {
     "data": {
      "text/plain": [
       "1.0"
      ]
     },
     "execution_count": 121,
     "metadata": {},
     "output_type": "execute_result"
    }
   ],
   "source": [
    "svm2 = roc_auc_score(yp3, svm2_rbf_search_results.predict_proba(Xp3)[:, 1])\n",
    "svm2"
   ]
  },
  {
   "cell_type": "markdown",
   "metadata": {},
   "source": [
    "## After assessing auc score, the advanced methods like random forests and svms test the highest. I think there has to be some type of overfitting"
   ]
  },
  {
   "cell_type": "markdown",
   "metadata": {},
   "source": [
    "# The LogisticRegressionCV with pair-wise interactions performed the best accuracy wise, random trees performed the best under auc tests. I would personally go with my LogisticRegressionCV model with pair wise interactions"
   ]
  },
  {
   "cell_type": "code",
   "execution_count": null,
   "metadata": {},
   "outputs": [],
   "source": []
  }
 ],
 "metadata": {
  "kernelspec": {
   "display_name": "Python 3",
   "language": "python",
   "name": "python3"
  },
  "language_info": {
   "codemirror_mode": {
    "name": "ipython",
    "version": 3
   },
   "file_extension": ".py",
   "mimetype": "text/x-python",
   "name": "python",
   "nbconvert_exporter": "python",
   "pygments_lexer": "ipython3",
   "version": "3.8.5"
  }
 },
 "nbformat": 4,
 "nbformat_minor": 4
}
